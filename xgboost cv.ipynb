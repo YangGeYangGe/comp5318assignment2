{
 "cells": [
  {
   "cell_type": "code",
   "execution_count": null,
   "metadata": {},
   "outputs": [],
   "source": [
    "# xgboost\n",
    "#https://xgboost.readthedocs.io/en/latest/python/index.html\n",
    "# https://github.com/dmlc/xgboost/blob/master/demo/multiclass_classification/train.py#L35"
   ]
  },
  {
   "cell_type": "code",
   "execution_count": 1,
   "metadata": {},
   "outputs": [
    {
     "name": "stderr",
     "output_type": "stream",
     "text": [
      "d:\\python\\lib\\site-packages\\sklearn\\utils\\validation.py:590: DataConversionWarning: Data with input dtype uint8 was converted to float64 by StandardScaler.\n",
      "  warnings.warn(msg, DataConversionWarning)\n",
      "d:\\python\\lib\\site-packages\\sklearn\\utils\\validation.py:590: DataConversionWarning: Data with input dtype uint8 was converted to float64 by StandardScaler.\n",
      "  warnings.warn(msg, DataConversionWarning)\n",
      "d:\\python\\lib\\site-packages\\sklearn\\utils\\validation.py:590: DataConversionWarning: Data with input dtype uint8 was converted to float64 by StandardScaler.\n",
      "  warnings.warn(msg, DataConversionWarning)\n"
     ]
    }
   ],
   "source": [
    "from sklearn.model_selection import KFold\n",
    "from load_mnist import load_mnist\n",
    "import xgboost as xgb\n",
    "import numpy as np\n",
    "from sklearn.preprocessing import StandardScaler\n",
    "import time\n",
    "from sklearn.model_selection import train_test_split\n",
    "import matplotlib.pyplot as plt\n",
    "from sklearn.metrics import confusion_matrix\n",
    "import itertools\n",
    "from sklearn.metrics import precision_recall_fscore_support\n",
    "\n",
    "def plot_confusion_matrix(cm, classes,\n",
    "                          normalize=False,\n",
    "                          title='Confusion matrix',\n",
    "                          cmap=plt.cm.Blues):\n",
    "    \"\"\"\n",
    "    This function prints and plots the confusion matrix.\n",
    "    Normalization can be applied by setting `normalize=True`.\n",
    "    \"\"\"\n",
    "    if normalize:\n",
    "        cm = cm.astype('float') / cm.sum(axis=1)[:, np.newaxis]\n",
    "    else:\n",
    "        pass\n",
    "    plt.imshow(cm, interpolation='nearest', cmap=cmap)\n",
    "    plt.title(title)\n",
    "    plt.colorbar()\n",
    "    tick_marks = np.arange(len(classes))\n",
    "    plt.xticks(tick_marks, classes, rotation=45)\n",
    "    plt.yticks(tick_marks, classes)\n",
    "\n",
    "    fmt = '.2f' if normalize else 'd'\n",
    "    thresh = cm.max() / 2.\n",
    "    for i, j in itertools.product(range(cm.shape[0]), range(cm.shape[1])):\n",
    "        plt.text(j, i, format(cm[i, j], fmt),\n",
    "                 horizontalalignment=\"center\",\n",
    "                 color=\"white\" if cm[i, j] > thresh else \"black\")\n",
    "\n",
    "    plt.ylabel('True label')\n",
    "    plt.xlabel('Predicted label')\n",
    "    plt.tight_layout()\n",
    "\n",
    "\n",
    "\n",
    "\n",
    "train_data, train_label = load_mnist(\"\",\"train\")\n",
    "test_data,test_label = load_mnist(\"\",\"t10k\")\n",
    "\n",
    "sc = StandardScaler()\n",
    "X_main_std = sc.fit(train_data)\n",
    "\n",
    "train_data = X_main_std.transform(train_data)\n",
    "test_data = X_main_std.transform(test_data)\n",
    "\n"
   ]
  },
  {
   "cell_type": "code",
   "execution_count": 2,
   "metadata": {},
   "outputs": [],
   "source": [
    "\n",
    "sc = StandardScaler()\n",
    "X_main_std = sc.fit(train_data)\n",
    "\n",
    "train_data = X_main_std.transform(train_data)\n",
    "test_data = X_main_std.transform(test_data)"
   ]
  },
  {
   "cell_type": "code",
   "execution_count": 3,
   "metadata": {},
   "outputs": [],
   "source": [
    "param = {}\n",
    "param['tree_method'] = 'gpu_exact'\n",
    "# param['tree_method'] = 'exact'\n",
    "param['objective'] = 'multi:softmax'\n",
    "param['eta'] = 0.3\n",
    "param['num_class'] = 10\n",
    "param[\"subsample\"] = 0.8\n",
    "param[\"colsample_bytree\"] = 0.8\n",
    "param[\"eval_metric\"] = 'merror'\n",
    "param['silent'] = 1\n",
    "num_round = 2\n",
    "param['max_depth'] = 2"
   ]
  },
  {
   "cell_type": "code",
   "execution_count": 10,
   "metadata": {
    "scrolled": true
   },
   "outputs": [
    {
     "name": "stdout",
     "output_type": "stream",
     "text": [
      "[0]\ttrain-merror:0.322704\tvalidation-merror:0.327167\n",
      "Multiple eval metrics have been passed: 'validation-merror' will be used for early stopping.\n",
      "\n",
      "Will train until validation-merror hasn't improved in 5 rounds.\n",
      "[1]\ttrain-merror:0.281926\tvalidation-merror:0.28\n",
      "[0]\ttrain-merror:0.324241\tvalidation-merror:0.3255\n",
      "Multiple eval metrics have been passed: 'validation-merror' will be used for early stopping.\n",
      "\n",
      "Will train until validation-merror hasn't improved in 5 rounds.\n",
      "[1]\ttrain-merror:0.284611\tvalidation-merror:0.2855\n",
      "[0]\ttrain-merror:0.328352\tvalidation-merror:0.325833\n",
      "Multiple eval metrics have been passed: 'validation-merror' will be used for early stopping.\n",
      "\n",
      "Will train until validation-merror hasn't improved in 5 rounds.\n",
      "[1]\ttrain-merror:0.284667\tvalidation-merror:0.288833\n",
      "[0]\ttrain-merror:0.325926\tvalidation-merror:0.3295\n",
      "Multiple eval metrics have been passed: 'validation-merror' will be used for early stopping.\n",
      "\n",
      "Will train until validation-merror hasn't improved in 5 rounds.\n",
      "[1]\ttrain-merror:0.284556\tvalidation-merror:0.285833\n",
      "[0]\ttrain-merror:0.326426\tvalidation-merror:0.329333\n",
      "Multiple eval metrics have been passed: 'validation-merror' will be used for early stopping.\n",
      "\n",
      "Will train until validation-merror hasn't improved in 5 rounds.\n",
      "[1]\ttrain-merror:0.281389\tvalidation-merror:0.284833\n",
      "[0]\ttrain-merror:0.327185\tvalidation-merror:0.324667\n",
      "Multiple eval metrics have been passed: 'validation-merror' will be used for early stopping.\n",
      "\n",
      "Will train until validation-merror hasn't improved in 5 rounds.\n",
      "[1]\ttrain-merror:0.282259\tvalidation-merror:0.2825\n",
      "[0]\ttrain-merror:0.334056\tvalidation-merror:0.340167\n",
      "Multiple eval metrics have been passed: 'validation-merror' will be used for early stopping.\n",
      "\n",
      "Will train until validation-merror hasn't improved in 5 rounds.\n",
      "[1]\ttrain-merror:0.282056\tvalidation-merror:0.290667\n",
      "[0]\ttrain-merror:0.322481\tvalidation-merror:0.334\n",
      "Multiple eval metrics have been passed: 'validation-merror' will be used for early stopping.\n",
      "\n",
      "Will train until validation-merror hasn't improved in 5 rounds.\n",
      "[1]\ttrain-merror:0.283944\tvalidation-merror:0.291167\n",
      "[0]\ttrain-merror:0.322056\tvalidation-merror:0.3215\n",
      "Multiple eval metrics have been passed: 'validation-merror' will be used for early stopping.\n",
      "\n",
      "Will train until validation-merror hasn't improved in 5 rounds.\n",
      "[1]\ttrain-merror:0.286574\tvalidation-merror:0.291167\n",
      "[0]\ttrain-merror:0.326796\tvalidation-merror:0.333833\n",
      "Multiple eval metrics have been passed: 'validation-merror' will be used for early stopping.\n",
      "\n",
      "Will train until validation-merror hasn't improved in 5 rounds.\n",
      "[1]\ttrain-merror:0.280019\tvalidation-merror:0.284\n"
     ]
    }
   ],
   "source": [
    "import time\n",
    "kf = KFold(n_splits = 10)\n",
    "dtest = xgb.DMatrix(test_data, label=test_label)\n",
    "accs = []\n",
    "# precisions = []\n",
    "# recalls = []\n",
    "# f1s = []\n",
    "precisions = np.zeros((10,))\n",
    "recalls = np.zeros((10,))\n",
    "f1s = np.zeros((10,))\n",
    "\n",
    "time1 = time.time()\n",
    "for train_index, val_index in kf.split(train_data):\n",
    "    x_train = train_data[train_index]\n",
    "    y_train = train_label[train_index]\n",
    "    x_valid = train_data[val_index]\n",
    "    y_valid = train_label[val_index]\n",
    "    dtrain = xgb.DMatrix(x_train, label=y_train)\n",
    "    dval = xgb.DMatrix(x_valid, label=y_valid)\n",
    "    evallist = [(dtrain, 'train'),(dval, 'validation')]\n",
    "    \n",
    "    #training\n",
    "    early_stopping = 5\n",
    "    \n",
    "    bst = xgb.train(param, dtrain, num_round, evallist, early_stopping_rounds=early_stopping)\n",
    "    \n",
    "    #predicting\n",
    "    pred = bst.predict(dtest)\n",
    "    acc_rate = np.sum(pred == test_label) / test_label.shape[0]\n",
    "    \n",
    "    bst.__del__()\n",
    "    \n",
    "    accs.append(acc_rate)\n",
    "    pr, re, f1, size = precision_recall_fscore_support(test_label, pred)\n",
    "    \n",
    "#     precisions.append(pr)\n",
    "#     recalls.append(re)\n",
    "#     f1s.append(f1)\n",
    "    precisions += pr\n",
    "    recalls += re\n",
    "    f1s += f1\n",
    "#     print(pr.shape)\n",
    "\n",
    "time2 = time.time()\n",
    "total_time = time2-time1"
   ]
  },
  {
   "cell_type": "code",
   "execution_count": 11,
   "metadata": {},
   "outputs": [
    {
     "data": {
      "text/plain": [
       "46.104421615600586"
      ]
     },
     "execution_count": 11,
     "metadata": {},
     "output_type": "execute_result"
    }
   ],
   "source": [
    "total_time\n",
    "# 49.29649209976196\n",
    "# 46.22644758224487"
   ]
  },
  {
   "cell_type": "code",
   "execution_count": 12,
   "metadata": {},
   "outputs": [
    {
     "name": "stdout",
     "output_type": "stream",
     "text": [
      "0.7051000000000001\n",
      "[0.76748962 0.96232645 0.62671287 0.57747694 0.52137085 0.85139799\n",
      " 0.46966386 0.76415181 0.79968081 0.80060026]\n",
      "[0.6265 0.8478 0.6873 0.8195 0.4557 0.7024 0.4512 0.8593 0.6952 0.9061]\n",
      "[0.68974685 0.9014337  0.65557932 0.67750915 0.48622879 0.76970446\n",
      " 0.46015818 0.80892258 0.74364037 0.85001219]\n"
     ]
    }
   ],
   "source": [
    "precisions /= 10\n",
    "recalls /= 10\n",
    "f1s /= 10\n",
    "print(sum(accs)/10)\n",
    "print(precisions)\n",
    "print(recalls)\n",
    "print(f1s)"
   ]
  },
  {
   "cell_type": "code",
   "execution_count": null,
   "metadata": {},
   "outputs": [],
   "source": [
    "cnf_matrix = confusion_matrix(test_label, pred)\n",
    "print(cnf_matrix)\n",
    "np.set_printoptions(precision=3)\n",
    "print(precision_recall_fscore_support(test_label, pred))\n",
    "# Plot non-normalized confusion matrix\n",
    "plt.figure(figsize=(8,6))\n",
    "plot_confusion_matrix(cnf_matrix, classes=[0,1,2,3,4,5,6,7,8,9],\n",
    "                      title='Confusion matrix, without normalization')\n",
    "\n",
    "plt.show()\n"
   ]
  }
 ],
 "metadata": {
  "kernelspec": {
   "display_name": "Python 3",
   "language": "python",
   "name": "python3"
  },
  "language_info": {
   "codemirror_mode": {
    "name": "ipython",
    "version": 3
   },
   "file_extension": ".py",
   "mimetype": "text/x-python",
   "name": "python",
   "nbconvert_exporter": "python",
   "pygments_lexer": "ipython3",
   "version": "3.6.4"
  }
 },
 "nbformat": 4,
 "nbformat_minor": 2
}
